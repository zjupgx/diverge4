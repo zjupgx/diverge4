{
 "cells": [
  {
   "cell_type": "markdown",
   "id": "bb1f1851-a16a-42fa-83e9-7bd6d5fd1b99",
   "metadata": {
    "jp-MarkdownHeadingCollapsed": true,
    "tags": []
   },
   "source": [
    "# Diverge package Quick Start\n",
    "## Description\n",
    "DIVERGE is a python packages for phylogeny-based analyses of protein family evolution and functional divergence. It was designed to detect functional divergence between member genes of a protein family, based on (site-specific) shifted evolutionary rates after gene duplication or speciation."
   ]
  },
  {
   "cell_type": "code",
   "execution_count": 1,
   "id": "6e2b6332-17f5-46c5-afa0-3a795810f796",
   "metadata": {
    "tags": []
   },
   "outputs": [
    {
     "name": "stdout",
     "output_type": "stream",
     "text": [
      "4.0.5\n"
     ]
    }
   ],
   "source": [
    "import diverge\n",
    "print(diverge.__version__)"
   ]
  },
  {
   "cell_type": "markdown",
   "id": "0eca5f55-954d-4060-bb44-6338b0af11b8",
   "metadata": {},
   "source": [
    "## Input Data Types and File Format\n",
    "\n",
    "The input files of DIVERGE software are: \n",
    "<br>\n",
    "1) a multiple alignment of amino acid sequences \n",
    "2) a tree file with the evolutionary relationships of the sequences from the alignment file\n",
    "\n",
    "### The Multiple Alignment File(Required)\n",
    "\n",
    "The alignment file must be in either **FASTA or CLUSTAL format** and contain as many as sequences as required. \n",
    "#### CLUSTAL Format\n",
    "The CLUSTAL format is exactly the output file from the alignment software CLUSTAL. These files normally have the extension .aln. An example of a CLUSTAL aligned file follows. Notice the first line in the example. This line is read by the software to help determine the format of the alignment file. If the word \"CLUSTAL\" is in the first line the software assumes the file is in CLUSTAL format. If the alignment file is coming from another source and is in this format, you can get the software to read the alignment file by adding CLUSTAL to the top line of the file.\n",
    "```\n",
    "CLUSTAL W (1.7) multiple sequence alignment\n",
    "HSU60521.MCH6 ---------------------\n",
    "CELCED3A.CED-3  ------------MMRQDRRSLLERNIMMFSSHLKVDEILEVLIAKQVLNSD\n",
    "HSU60521.MCH6  ----MDEADRRLLRRCRLRLVEELQVDQLWDALLSSELFRPHMIEDIQRAGSGSRRDQAR\n",
    "CELCED3A.CED-3  NGDMINSCGTVREKRREIVKAVQRRGDVAFDAFYDALRSTGHEGLAEVLEPLARSVDSNA\n",
    "```\n",
    "Only amino acid alignment is allowed in the current version. Gaps (-) in the alignment are allowed. (**example file**:[CASP.aln](./test_data/CASP.aln))\n",
    "#### FASTA Format\n",
    "The FASTA format may contain sequences that are split over numbers of lines or sequences that are on one long line or a mixture. If the sequences are of varying lengths (unaligned), the file will not be loaded and an error message is displayed. FASTA files typically have the extension .fasta. An example of the FASTA follows:\n",
    "```\n",
    ">Amazon_molly_ERBB3b\n",
    "---------------------------------------------------------------------MSVSMDQQQVLLLCVALSWRIHTGSAQSHEEVCPGTQNGLSSTGSQETQYNLIKDRYSGCEIIMGNLEITQIES----------------------NWDFSFLKTIREVTGYVLIAMNHVQEIPLGQLRVIRGNSLYERRFALSVFFNYPK----------EGSNGLRQLGLLNLT-EILEGGVQIINNKFLSYGP--SIFWQDILRDN-----SAPIDIQNNG----ERGPCHKSCGD-------YCWGPNKDQCQI-LTKMVCAPQCNGRCFGRSPRDCCHIECA--AGCKGPLDEDCFACRHFNDSGACVPQCPQTLIYNKQTFQMETNPNAKYQYGSICVSQCPTHFVVDGSS---CVSVCPPDKTEMERDG-----QRQCELCSG-FCPKV----CNGTGAEH--------RQTVDSSNIDSFINCTKIQGSLHFLVTGIHGDDFKNI--------PPLDAKKLEVFRTVREIT-----DILNIQSWPKELNNLSVFSSLTTIQGRSLHKR------FSLMVIHIPTLTSLGLRSLRYINDGSVYISQNANLCYHHTVNWTQLFRGR--RVR---VNNLNNNKPLAECVAEGRVCDPLCSDAGCWGPGPDQCLTCRNYSRHGTCVGSCNFLSGDK--------------------------------------------------REFARSDEECAACHPECKPQR--GK-VSCTGTGADECVACSNLQ-DGPYCMSSCPAGVL---------------------------------------------------------------DEHRGLIFKYPNKE-----------GHCEPCHPNCTHG------------------------------------------------CVGPGLNDCKISG--------------------------------------------------------GSGQITGIALAVPACLIFCLGLFFLGVLYHRGLAIRRKRAMRRYLESGESFEPLGS-GEKGTKVFARILRPSELKKIKLLGYGVFGTVHKGFWTPE-GETVKIPVAIKTIQDSSGRQTFTEITDHMLSMGSLDYPYIVRLLGICPGPS-LQLVTQLSPRG--SLLEHIRQHK--NSLDPQRLLNWCVQIAK-GMFYLEEHRMVHRNLAARNVLLKNDYQVQISDYGVADLLYPDDKKYVYTDTKTP-IKWMALESILFRRYTHQSDVWSYG------VTVWEMMSFGAEPYMSVQPQEVPSLLEKGERLSQPHICTIDVYMVMVKCWMIDENVRPTFKELASDFTRMARDPHRYLVIK---EGEDAPPGEIHRRESERGLLDA--DLE---DADEEGLDDGLTTP--------PLQHSPSWSLSRSRIN----------------------SCRSGVSQPGPTGYLPMTPSPAD----NIRQLWF----------------HRSRLSSVRTLPERS----EVRGNGRE----AEGLRAGSLRRAR------------------------------LGSERTSPRVALSRHRKLSTASSPSSYKVWTAQEDEEELDHYGYVLPGSPETPE--RST--------------------KSNQILEACEG-----------------------------------------------------------AAANQRDGTEKDQLHCRREIQSVDHKAEVDRGTCRYEYMD-----------------IRHSDSSEGGESELERCGSQTSSTTGAETDQTAGGSVKERKGEEETEICHTN-------------------------------------------------------------------------------------------------------------KQAAVPEDPSGGVVPGADVSAAGDGTVEEYEEMSRFEKVPGERGHAEYENLPAKARAVPKETDSDRCAGIGEYIKVCTGIREPSNNTSFDNPDYWHSRLFLKPDAVRT*-\n",
    "```\n",
    "### The Tree File(Required)\n",
    "You can build an phylogenetic tree any way you like, and select clusters that interest you for DIVERGE calculations. You need to extract these clusters into subtrees and take them as input in Newick format.\n",
    "The details of Newick format are as demonstrated below. The string representing the tree may be all contained on a single line or broke over a number of lines. Branch lengths (either floating point or integer values) are allowed and read if available. \n",
    "```\n",
    "Example without branch lengths:\n",
    "(((AF111345,HSU60519.MCH4),HSU86214.PE1),(HSCASP8S8.CASP8,MMCASP8 S7.PE1)));\n",
    "Example with branch lengths:\n",
    "(((AF111345:.012,HSU60519.MCH4:.453):.345,HSU86214.PE1:.543):.546,(HSCASP8S8.CASP8:.954,MMCASP8S7.PE1:.42):.65); \n",
    "```\n",
    "**NOTE:**\n",
    "Please check your tree file. It is important to note that we usually pay more attention to the leaf nodes. The internal nodes and root node are only used to display the hierarchical structure of the tree, and their names are not very important. Therefore, please **delete their(internal nodes and root nodes) names** in advance, otherwise it may cause the program to crash."
   ]
  },
  {
   "cell_type": "markdown",
   "id": "d92ab8ca-1850-46cd-8822-f179b0044c73",
   "metadata": {
    "tags": []
   },
   "source": [
    "## Fully automatic pipeline"
   ]
  },
  {
   "cell_type": "code",
   "execution_count": 5,
   "id": "39612bf5",
   "metadata": {},
   "outputs": [
    {
     "data": {
      "text/plain": [
       "'e:\\\\verysync\\\\diverge_upload\\\\diverge_pybind\\\\diverge\\\\__init__.py'"
      ]
     },
     "execution_count": 5,
     "metadata": {},
     "output_type": "execute_result"
    }
   ],
   "source": [
    "diverge.__file__"
   ]
  },
  {
   "cell_type": "code",
   "execution_count": 2,
   "id": "3eb1039f",
   "metadata": {},
   "outputs": [
    {
     "data": {
      "application/vnd.microsoft.datawrangler.viewer.v0+json": {
       "columns": [
        {
         "name": "index",
         "rawType": "object",
         "type": "string"
        },
        {
         "name": "cluster_1/cluster_2",
         "rawType": "float64",
         "type": "float"
        },
        {
         "name": "cluster_1/cluster_3",
         "rawType": "float64",
         "type": "float"
        },
        {
         "name": "cluster_2/cluster_3",
         "rawType": "float64",
         "type": "float"
        }
       ],
       "conversionMethod": "pd.DataFrame",
       "ref": "f615acc9-8868-4c51-84d0-21f2afdbf963",
       "rows": [
        [
         "MFE Theta",
         "0.20579665764712485",
         "0.20579665764712485",
         "0.20579665764712485"
        ],
        [
         "MFE se",
         "0.17548716975524242",
         "0.17548716975524242",
         "0.17548716975524242"
        ],
        [
         "MFE r X",
         "0.2951113610130288",
         "0.2951113610130288",
         "0.2951113610130288"
        ],
        [
         "MFE r max",
         "0.37158161553279756",
         "0.37158161553279756",
         "0.37158161553279756"
        ],
        [
         "MFE z score",
         "-1.2054106598822143",
         "-1.2054106598822143",
         "-1.2054106598822143"
        ],
        [
         "ThetaML",
         "0.019400000000000018",
         "0.019400000000000018",
         "0.019400000000000018"
        ],
        [
         "AlphaML",
         "1.8868360277136254",
         "1.8868360277136254",
         "1.8868360277136254"
        ],
        [
         "SE Theta",
         "0.1548321225964604",
         "0.1548321225964604",
         "0.1548321225964604"
        ],
        [
         "LRT Theta",
         "0.015699337456453577",
         "0.015699337456453577",
         "0.015699337456453577"
        ]
       ],
       "shape": {
        "columns": 3,
        "rows": 9
       }
      },
      "text/html": [
       "<div>\n",
       "<style scoped>\n",
       "    .dataframe tbody tr th:only-of-type {\n",
       "        vertical-align: middle;\n",
       "    }\n",
       "\n",
       "    .dataframe tbody tr th {\n",
       "        vertical-align: top;\n",
       "    }\n",
       "\n",
       "    .dataframe thead th {\n",
       "        text-align: right;\n",
       "    }\n",
       "</style>\n",
       "<table border=\"1\" class=\"dataframe\">\n",
       "  <thead>\n",
       "    <tr style=\"text-align: right;\">\n",
       "      <th></th>\n",
       "      <th>cluster_1/cluster_2</th>\n",
       "      <th>cluster_1/cluster_3</th>\n",
       "      <th>cluster_2/cluster_3</th>\n",
       "    </tr>\n",
       "  </thead>\n",
       "  <tbody>\n",
       "    <tr>\n",
       "      <th>MFE Theta</th>\n",
       "      <td>0.205797</td>\n",
       "      <td>0.205797</td>\n",
       "      <td>0.205797</td>\n",
       "    </tr>\n",
       "    <tr>\n",
       "      <th>MFE se</th>\n",
       "      <td>0.175487</td>\n",
       "      <td>0.175487</td>\n",
       "      <td>0.175487</td>\n",
       "    </tr>\n",
       "    <tr>\n",
       "      <th>MFE r X</th>\n",
       "      <td>0.295111</td>\n",
       "      <td>0.295111</td>\n",
       "      <td>0.295111</td>\n",
       "    </tr>\n",
       "    <tr>\n",
       "      <th>MFE r max</th>\n",
       "      <td>0.371582</td>\n",
       "      <td>0.371582</td>\n",
       "      <td>0.371582</td>\n",
       "    </tr>\n",
       "    <tr>\n",
       "      <th>MFE z score</th>\n",
       "      <td>-1.205411</td>\n",
       "      <td>-1.205411</td>\n",
       "      <td>-1.205411</td>\n",
       "    </tr>\n",
       "    <tr>\n",
       "      <th>ThetaML</th>\n",
       "      <td>0.019400</td>\n",
       "      <td>0.019400</td>\n",
       "      <td>0.019400</td>\n",
       "    </tr>\n",
       "    <tr>\n",
       "      <th>AlphaML</th>\n",
       "      <td>1.886836</td>\n",
       "      <td>1.886836</td>\n",
       "      <td>1.886836</td>\n",
       "    </tr>\n",
       "    <tr>\n",
       "      <th>SE Theta</th>\n",
       "      <td>0.154832</td>\n",
       "      <td>0.154832</td>\n",
       "      <td>0.154832</td>\n",
       "    </tr>\n",
       "    <tr>\n",
       "      <th>LRT Theta</th>\n",
       "      <td>0.015699</td>\n",
       "      <td>0.015699</td>\n",
       "      <td>0.015699</td>\n",
       "    </tr>\n",
       "  </tbody>\n",
       "</table>\n",
       "</div>"
      ],
      "text/plain": [
       "             cluster_1/cluster_2  cluster_1/cluster_3  cluster_2/cluster_3\n",
       "MFE Theta               0.205797             0.205797             0.205797\n",
       "MFE se                  0.175487             0.175487             0.175487\n",
       "MFE r X                 0.295111             0.295111             0.295111\n",
       "MFE r max               0.371582             0.371582             0.371582\n",
       "MFE z score            -1.205411            -1.205411            -1.205411\n",
       "ThetaML                 0.019400             0.019400             0.019400\n",
       "AlphaML                 1.886836             1.886836             1.886836\n",
       "SE Theta                0.154832             0.154832             0.154832\n",
       "LRT Theta               0.015699             0.015699             0.015699"
      ]
     },
     "execution_count": 2,
     "metadata": {},
     "output_type": "execute_result"
    }
   ],
   "source": [
    "from diverge import Gu99,Type2\n",
    "gu99 = Gu99(\"./test_data/CASP.aln\",\"./test_data/cl1.tree\",\"./test_data/cl2.tree\",\"./test_data/cl3.tree\")\n",
    "gu99.summary()"
   ]
  },
  {
   "cell_type": "code",
   "execution_count": 8,
   "id": "caecbfae-33ce-475a-8ede-cc73346fdde4",
   "metadata": {
    "tags": []
   },
   "outputs": [
    {
     "name": "stderr",
     "output_type": "stream",
     "text": [
      "Asym test running...: 100%|██████████| 6/6 [00:01<00:00,  3.94it/s]                             \n"
     ]
    },
    {
     "data": {
      "text/plain": [
       "Diverge calculation pipeline\n",
       "step1: Gu99\n",
       "step2: Type2\n",
       "step3: Fdr\n",
       "step4: FunDist\n",
       "step5: Type1Analysis\n",
       "step6: Asym\n",
       "#####################\n",
       "You can get the result by calling the result_summary attribute or the specific attribute as follow:\n",
       " dict_keys(['gu99_summary', 'gu99_results', 'type1analysis_summary', 'type1analysis_results', 'type2_summary', 'type2_results', 'type1_fdr', 'type2_fdr', 'fundist_results', 'asym_results'])"
      ]
     },
     "execution_count": 8,
     "metadata": {},
     "output_type": "execute_result"
    }
   ],
   "source": [
    "from diverge import CalPipe\n",
    "from diverge.utils import view_cutoff_msa\n",
    "pipeline = CalPipe(\"./test_data/CASP.aln\",\"./test_data/cl1.tree\",\"./test_data/cl2.tree\",\"./test_data/cl3.tree\")\n",
    "pipeline"
   ]
  },
  {
   "cell_type": "markdown",
   "id": "e8cdec83-cb06-4151-9c70-cace8223574b",
   "metadata": {
    "jp-MarkdownHeadingCollapsed": true,
    "tags": []
   },
   "source": [
    "### visit specific attribute\n",
    "You can access `pipeline.result_summary` to get all results."
   ]
  },
  {
   "cell_type": "code",
   "execution_count": null,
   "id": "796980d0-cba0-43e9-8b43-c2cb6ed678af",
   "metadata": {
    "collapsed": true,
    "jupyter": {
     "outputs_hidden": true
    },
    "tags": []
   },
   "outputs": [],
   "source": [
    "pipeline.result_summary"
   ]
  },
  {
   "cell_type": "code",
   "execution_count": null,
   "id": "42b0312b-8ba3-4744-b2ee-0aa8744786f8",
   "metadata": {
    "tags": []
   },
   "outputs": [],
   "source": [
    "pipeline.result_summary.keys()"
   ]
  },
  {
   "cell_type": "markdown",
   "id": "6d2f2d98-3d12-452c-be75-d4663a454758",
   "metadata": {},
   "source": [
    "And you can also access the results of a particular computation function by accessing specific parameters. \n",
    "<br>\n",
    "For example，if you want to get the gu99 calculation result，you can call `pipeline.gu99_results` to get it."
   ]
  },
  {
   "cell_type": "code",
   "execution_count": null,
   "id": "d6e2bf89-07c1-48e5-adea-2ca6aba2066e",
   "metadata": {
    "tags": []
   },
   "outputs": [],
   "source": [
    "pipeline.gu99_results"
   ]
  },
  {
   "cell_type": "markdown",
   "id": "11cfe6c5-954a-4494-abca-731ef20d5e82",
   "metadata": {
    "tags": []
   },
   "source": [
    "## Independent computing process\n",
    "You can also do independent computing process to setup your custom pipeline. The specific functions are as follows:\n",
    "|Function|Description|\n",
    "|-----|-----|\n",
    "|Gu99|Detect type-I functional divergence by Gu(1999) method.|\n",
    "|Gu2001|Detect type-I functional divergence by Gu(2001) method.<br />Need phylogenetic tree file to contain branch length data.|\n",
    "|Type-II Divergence|Detect type-II functional divergence of gene family|\n",
    "|Rate variation among sites(RVS)|Estimate the among-site rate variations for given cluster as described in Gu and Zhang(1997).<br />**only ONE cluster is allowed in one run**|\n",
    "|Functional Distance Analysis|Estimate the type I functional distance for each pair of clusters and show the type I functional branch length of each cluster when at least three homologous gene clusters are available.<br />**Need to select at least three clusters**|\n",
    "|FDR for predictions|The calculation of the false discovery rate of functionally diverging sites.|\n",
    "|Asymmetric test for type-I functional divergence|Statistically testing whether the degree of type I functional divergence differs between two duplicate genes.<br />**Need to select just three clusters**|\n",
    "|Effective number of sites related to functional divergence(type I or type II)|Estimate effectively the number of sites related to type I and type II functional divergences, which is insensitive to the cutoff.<br />**Need to select just two clusters**|\n",
    "|Gene-specific type I analysis|Site-specific posterior profiles for predicting gene-specific type I functional divergence-related sites<br />**Need to select just three clusters**|\n",
    "### Type-I Divergence Calculation\n",
    "Calculation of type-I divergence contain two methods:`diverge.Gu99` and `diverge.Gu2001`.\n",
    "#### Gu99\n",
    "You can straightly import gu99 calculation module from diverge pacakge and add the required file for calculation."
   ]
  },
  {
   "cell_type": "code",
   "execution_count": 1,
   "id": "02335232-3d3e-46e1-a74b-1c86b9a94fdc",
   "metadata": {
    "tags": []
   },
   "outputs": [],
   "source": [
    "from diverge import Gu99\n",
    "gu99 = Gu99(\"./test_data/CASP.aln\",\"./test_data/cl1.tree\",\"./test_data/cl2.tree\",\"./test_data/cl3.tree\")"
   ]
  },
  {
   "cell_type": "code",
   "execution_count": null,
   "id": "12d852ac",
   "metadata": {},
   "outputs": [],
   "source": [
    "gu99.summary()"
   ]
  },
  {
   "cell_type": "markdown",
   "id": "2be79b5d-d4a2-4f15-92e3-986d96598f44",
   "metadata": {},
   "source": [
    "You can get statistical parameter result of gu99 calculation by calling `gu99.summary()`.\n",
    "<br>\n",
    "**The detail interpretations of parameters are as follow**:\n",
    "|Parameters|Interpretations|\n",
    "|:----|:----|\n",
    "|MFE Theta|Estimate of $\\theta_1$ by the model-free method|\n",
    "|MFE se|Standard error of the $\\theta_1$ estimated by MFE|\n",
    "|MFE r_X|The observed coefficient of correlation between two gene clusters|\n",
    "|MFE r_max|The expected maximum coefficient of correlation between two gene clusters|\n",
    "|MFE z-score|The z-score for the model-free estimate of $\\theta_1$ after Fisher’s transformation|\n",
    "|ThetaML|Maximum likelihood estimate of $\\theta_1$.|\n",
    "|AlphaML|Maximum likelihood estimate of $\\alpha$(the gamma parameter for the among-site rate variation)|\n",
    "|SE Theta|Standard error of the maximum likelihood estimate of $\\theta_1$|\n",
    "|LRT Theta|The (log) score for the likelihood ratio test against the null $\\theta_1$=0|\n",
    "\n",
    "**NOTE:**\n",
    "- Note that MFE z-score is usually negative, so the user has to use its absolute value to obtain the p-value from the Z-core test.\n",
    "- The value of LRT Theta in the output is the log-score so that it approximately follows a chi-square distribution with one degree of freedom.\n",
    "- Although it is simple, the \"model free\" method requires that each gene cluster should have multiple (say, four) sequences; otherwise, the estimate of $\\theta_\\lambda$ may be subject to large sampling variance. Therefore, maximum likelihood estimation method is plausible in practice because it has some nice statistical properties. Generally speaking, the $\\theta_\\lambda=0$ calculated using the maximum likelihood estimation method tends to be smaller than the one obtained through \"model free\" methods.\n",
    "\n",
    "**_Statistical Testing_**\n",
    "<br>\n",
    "Since $\\theta_\\lambda>0$ provides evidence for functional divergence after gene duplication, we have to test for statistical significance. \n",
    "In \"model free\" method, the `MFE z-score` approximately follows a normal distribution. For example, if the Z score is $\\left| Z \\right|>1.96$, the null hypothesis $\\theta_\\lambda=0$ can be rejected at the 5% significance level.\n",
    "<br>\n",
    "**_Site-specific Profile_**\n",
    "<br>\n",
    "The site-specific profile(s) can get by calling `pipeline.gu99_results`, which is the posterior probability of a site to be functional divergence-related. Moreover, you can give a cut-off value and view the relate site on the alignment view use `view_cutoff_msa` function. The alignment viewer options require the user select which pairwise comparisons to examine."
   ]
  },
  {
   "cell_type": "code",
   "execution_count": null,
   "id": "9307a6f6-733a-401c-8758-7ee2761af378",
   "metadata": {
    "tags": []
   },
   "outputs": [],
   "source": [
    "from diverge.utils import view_cutoff_msa\n",
    "result = gu99.results()\n",
    "# view_cutoff_msa(\"./test_data/CASP.aln\",result,colname=\"cluster_1/cluster_2\",cutoff=0.6,show_grid=True,show_plot=True,save_plot=False,marker='v',aln_format='clustal')"
   ]
  },
  {
   "cell_type": "markdown",
   "id": "7791d00b-b0f1-4ebc-bac6-4acc3b3c85ab",
   "metadata": {
    "tags": []
   },
   "source": [
    "#### Gu2001\n",
    "Using `diverge.Gu2001` is similar with `diverge.Gu99`, **but it need your tree file contain branch length data**.\n",
    "The results can get by calling `gu2001.summary()` and `gu2001.results()`."
   ]
  },
  {
   "cell_type": "markdown",
   "id": "53d4b1f6-d691-4409-a70d-d265be1ad78b",
   "metadata": {},
   "source": [
    "### Type-I analysis\n",
    "This function help users to infer type I functional divergence specific to a given duplicate cluster. To this end, we need to analyze three duplicate clusters simultaneously.(**Note: Just three clusters is needed**)\n",
    "<br>\n",
    "Under the two-state model(functional divergence unrelated F0 or related F1)(Gu 99, Gu 2001), there are eight possible combined states for three duplicate clusters, which can be reduced to five nondegenerate patterns:\n",
    "- S0=(F0, F0, F0): means no type-one divergence occurred in any clusters. \n",
    "- S1=(F1, F0, F0): means type-one functional divergence occurred only in cluster 1\n",
    "- S2 =(F0, F1,F0)\n",
    "- S3 =(F0, F0, F1)\n",
    "- S4: for the rest of four states, each of which has two or three clusters that have experienced type-one functional divergence.\n",
    "\n",
    "\n",
    "Let $f_k = P(S_k), k =0,1,2,4$ be the probability of the kth (nondegenerate) pattern. We then claim that the coefficient of type I functional divergence between any two clusters is given by $\\theta_{12} = f1 + f2 + f4, \\theta_{13} = f1 + f3 + f4, or \\theta_{23} = f2 + f3 + f4$, respectively. This is because, say, $\\theta_{12}$ includes the probabilities of type I functional divergence occurred in cluster 1 ($f1$), or cluster 2 ($f2$), or both ($f4$). Our goal is to calculate the posterior probability of the jth joint pattern Sj conditional on the observations x. By Bayes rule, this is\n",
    "$$\n",
    "P\\left(S_j \\mid \\mathbf{x}\\right)=f_j P\\left(\\mathbf{x} \\mid S_j\\right) / P(\\mathbf{x})\n",
    "$$\n",
    "You can site-specific posterior profile of gene-specific type I functional divergence by using `TypeOneAnalysis` fuction in diverge package and get result by `TypeOneAnalysis().results()`.This result can be used to predict amino acid sites that have experienced type I functional divergence in a specific duplicate cluster.\n"
   ]
  },
  {
   "cell_type": "markdown",
   "id": "ac3b0ffd-ea0c-4724-a01e-24070cac925a",
   "metadata": {
    "tags": []
   },
   "source": [
    "### Type-II Divergence Calculation\n",
    "type-II functional divergence is to statistically test those residues with dramatic amino acid property differences between duplicate genes, but highly conserved within the cluster.The current version of the software tentatively classified twenty amino acids into four groups: charge positive (K, R, H), charge \n",
    "negative (D, E), hydrophilic (S, T, N, Q, C, G, P), and hydrophobic (A, I, L, M, F, W,V, Y). *An amino acid substitution is called radical if it changes from one group to another; otherwise it is called conserved.*\n",
    "<br>\n",
    "The level of type-II functional divergence is measure by the parameter $\\theta_2$, called the coefficient of type-II functional divergence; $\\theta_2=0$ for no type-II functional divergence while $\\theta_2=1$ for very strong one.\n",
    "<br>\n",
    "You can get statistical parameter result of `diverge.Type` calculation by calling `type2.summary()`. The statistical testing whether $\\theta_2$ is significantly larger than 0 is based on the estimate Theta and its standard error (Theta SE) in `type2.summary()`. For instance, if one obtains $\\theta_2 = 0.2\\pm0.05$, calculate the $score=0.2/0.05=4$ and then obtain the $p-value<0.01$ from the Z-score test (normal distribution test). \n",
    "<br>\n",
    "It should be noticed that, to our experience, the statistical power of type-II method is relatively lower than that of type-I method, probably due to the fact that less number of amino acid sits are involved in type-II functional divergence between two gene clusters.\n",
    "<br>\n",
    "**The detail interpretations of parameters are as follow:**\n",
    "<br>\n",
    "|Parameters|Interpretations|\n",
    "|:---|:-----|\n",
    "|Da|Total branch length for gene cluster a|\n",
    "|Db|Total branch length for gene cluster b|\n",
    "|N|Number of sites with no change between two clusters|\n",
    "|C|Number of sites with conserved change between two clusters|\n",
    "|R|Number of sites with radical change between two clusters|\n",
    "|p|Proportion of different sites between ancestral nodes of two gene clusters|\n",
    "|d|Evolutionary distance between ancestral nodes of two gene clusters|\n",
    "|W|Parameter ad hoc defined in the calculation|\n",
    "|Z|Parameter ad hoc defined in the calculation|\n",
    "|Alpha ML|Maximum likelihood estimate of α (the gamma parameter for the among-site rate variation|\n",
    "|Theta|Estimate of $\\theta_2$ by the simplified maximum likelihood method|\n",
    "|Theta SE|Standard error of the $\\theta_2$ estimated by the simplified maximum likelihood method|\n",
    "|Gc|Proportion of conserved changes|\n",
    "|Gr|Proportion of radical changes|\n",
    "|h|Parameter ad hoc defined in the calculation|\n",
    "|Q|Parameter ad hoc defined in the calculation|\n",
    "|Ar|Proportion of radical (aR) changes under F2-state (type-II functional divergence)|\n",
    "|PIr|Proportion of radical (πR) changes under F0-state (no functional divergence)|\n",
    "|F00,N|Proportion of sites with no change within and between gene clusters|\n",
    "|F00,R|Proportion of sites with no change within gene clusters, but conserved change between clusters|\n",
    "|F00,C|Proportion of sites with no change within gene clusters, but radical change between clusters|"
   ]
  },
  {
   "cell_type": "code",
   "execution_count": 8,
   "id": "6481aa42-cc11-4fef-b859-68bd4785b363",
   "metadata": {},
   "outputs": [],
   "source": [
    "from diverge import Type2\n",
    "type2 = Type2(\"./test_data/CASP.aln\",\"./test_data/cl1.tree\",\"./test_data/cl2.tree\",\"./test_data/cl3.tree\")"
   ]
  },
  {
   "cell_type": "markdown",
   "id": "ff3cfa93-c69d-4901-aaf7-424496afab2f",
   "metadata": {},
   "source": [
    "You can call `type2.type2_results` to get the posterior probability of a site to be functional divergence-related.And `view_cutoff_msa` function is also available."
   ]
  },
  {
   "cell_type": "code",
   "execution_count": null,
   "id": "894af551-7fe6-4991-881b-948a17739cdb",
   "metadata": {
    "tags": []
   },
   "outputs": [],
   "source": [
    "type2.results()"
   ]
  },
  {
   "cell_type": "markdown",
   "id": "1e7f89e5-a056-4c9b-8a82-7c42f10a61a0",
   "metadata": {},
   "source": [
    "### False Discovery Rate for Predicted Amino Acid Sites\n",
    "Knowing the false discovery rate (FDR) of the predicted sites is critical to assessing the reliability of the results. In general, FDR is the proportion of predicted sites that are actually unrelated to functional divergence.\n",
    "In the previous calculation step, we mainly use a site-specific posterior profile, denoted by $Q_k$ for site k, as a scoring system to identify functional divergence-related amino acids. Now, let $L_c$ be the number of sites predicted under the posterior cutoff c. Then we have shown (Gu 2001) that FDR(c) can be approximately calculated by\n",
    "$$\n",
    "\\operatorname{FDR}(c)=1-\\sum_{k \\text { in } \\mathrm{A}} Q_k / L_c\n",
    "$$\n",
    "where set A is for all sites k that satisfy $Q_k > c$. This value may help to evaluate the cost of experiments caused by false positive predictions.\n",
    "<br>\n",
    "You can get the FDR results as follow, the result is a dataframe in relation to the number of sorted site with the probibity of the cutoff. \n",
    "**You can draw a line chart to choose a best cutoff.**"
   ]
  },
  {
   "cell_type": "code",
   "execution_count": null,
   "id": "5305274c-ffff-4674-828f-49f853dee947",
   "metadata": {
    "tags": []
   },
   "outputs": [],
   "source": [
    "from diverge import Fdr\n",
    "import pandas as pd\n",
    "pd.set_option('display.max_rows', 5) \n",
    "fdr = Fdr(\"./test_data/CASP.aln\", \"./test_data/cl1.tree\", \"./test_data/cl2.tree\",\"./test_data/cl3.tree\")\n",
    "# type1 fdr results\n",
    "results1 = fdr.type1_results()\n",
    "# type2 fdr results\n",
    "results2 = fdr.type2_results()\n",
    "print(\"type1 fdr results\")\n",
    "display(results1)\n",
    "print(\"type2 fdr results\")\n",
    "display(results2)"
   ]
  },
  {
   "cell_type": "code",
   "execution_count": null,
   "id": "77bfeffd-8849-49fb-8fa0-3156b625f194",
   "metadata": {
    "collapsed": true,
    "jupyter": {
     "outputs_hidden": true
    },
    "tags": []
   },
   "outputs": [],
   "source": [
    "import matplotlib.pyplot as plt\n",
    "plt.figure(figsize=(3, 3), dpi=100)\n",
    "y = results2.index\n",
    "x = results2.iloc[:,0]\n",
    "plt.plot(x,y)\n",
    "plt.xlabel(\"cutoff\")\n",
    "plt.ylabel(\"FDR\")\n",
    "plt.show()"
   ]
  },
  {
   "cell_type": "markdown",
   "id": "ff1e090e-e24a-4f5f-ae32-18ce0fa75e95",
   "metadata": {},
   "source": [
    "### Effective Number of Sites\n",
    "Even though most studies pointed to a small number of sites that can be predicted as type I or type II functional divergence-related, calculation of the average percentage of amino acid sites involved is problematic. From our preliminary analysis, we notice that, **after removing those predicted sites with the strongest signals, the functional divergence between duplicate genes for the rest of amino acid sites usually becomes trivial**. `diverge.Effective` is a rapid nonparametric function in diverge package to count the effective number of functional divergence-related sites, **which is insensitive to the cutoff**.\n",
    "The effective number (ne) of functional divergence-related sites(F sites) is defined as the minimum number of sites, such that, **when they are removed, the coefficient of functional divergence for the rest of sites approaches to zero**.\n",
    "Then effective number of sites with type I and type II can be get as follow, the results also show the theta and standard deviation of the sites. \n",
    "<br>\n",
    "One thing to note is that **only two clusters** is needed in this function."
   ]
  },
  {
   "cell_type": "code",
   "execution_count": null,
   "id": "cc2cf42a-7230-419f-8723-a83c442a412c",
   "metadata": {
    "tags": []
   },
   "outputs": [],
   "source": [
    "from diverge import Effective\n",
    "effective = Effective(\"./test_data/CASP.aln\", \"./test_data/cl1.tree\", \"./test_data/cl2.tree\")\n",
    "#theta and standard deviation of the sites\n",
    "type1 = effective.type1_results()\n",
    "type2 = effective.type2_results()\n",
    "print(\"#\"*30)\n",
    "print(\"type1 theta and standard deviation of the sites\")\n",
    "print(type1)\n",
    "print(\"type2 theta and standard deviation of the sites\")\n",
    "print(type2)"
   ]
  },
  {
   "cell_type": "markdown",
   "id": "ea8dac6f-0db6-4a8f-92b5-21a96587766b",
   "metadata": {
    "tags": []
   },
   "source": [
    "### Functional Distance Analysis\n",
    "The functional distance analysis in diverge package is designed for exploring  in which gene cluster the altered functional constraint took place after gene duplication. The \n",
    "analysis result, functional distance matrix, is based on the coefficient of type I functional divergence ($\\theta_{ij}$) of each pair of clusters as follows:\n",
    "$$\n",
    "d_F(i, j)=-\\ln \\left(1-\\theta_{i j}\\right)\n",
    "$$\n",
    "In fact, it is a submodule of the `diverge.Gu99` function."
   ]
  },
  {
   "cell_type": "code",
   "execution_count": null,
   "id": "3171f3ad-cc1f-43e1-aa85-f8b8e5c5ceb1",
   "metadata": {
    "tags": []
   },
   "outputs": [],
   "source": [
    "from diverge import Gu99\n",
    "gu99 = Gu99(\"./test_data/CASP.aln\",\"./test_data/cl1.tree\",\"./test_data/cl2.tree\",\"./test_data/cl3.tree\")\n",
    "gu99.fundist()"
   ]
  },
  {
   "cell_type": "code",
   "execution_count": null,
   "id": "950224fc",
   "metadata": {},
   "outputs": [],
   "source": [
    "gu99.__dict__"
   ]
  },
  {
   "cell_type": "markdown",
   "id": "80d5941f-fa14-4865-a023-d83a22de707c",
   "metadata": {
    "tags": []
   },
   "source": [
    "### Asymmetric Test for Type I\n",
    "`diverge.Asym` is a rigorous statistical basis function to demonstrate the asymmetry of type I functional divergence. \n",
    "Suppose we test whether type I functional divergence is asymmetric between duplicate clusters 1 and 2, given a more ancient duplicate cluster 3 as outgroup. Let $\\theta_{12}$, $\\theta_{13}$, and $\\theta_{23}$ be the coefficients of type I functional divergence between pair-wise duplicate clusters. \n",
    "Under the hypothesis of symmetry between duplicate clusters 1 and 2, we have the \n",
    "null $\\theta_{12} = \\theta_{13}$ and develop an approximate method to calculate the sampling variance of \n",
    "$\\delta=\\theta_{13}-\\theta_{23}$, for testing whether the null hypothesis $\\delta = 0$ can be statistically rejected.\n",
    "<br>\n",
    "One thing to note is that **just three clusters** is needed in this function."
   ]
  },
  {
   "cell_type": "code",
   "execution_count": null,
   "id": "907db9d2-0c6d-4fc0-96dc-a2e51b7aa964",
   "metadata": {
    "tags": []
   },
   "outputs": [],
   "source": [
    "from diverge import Asym\n",
    "asym = Asym(\"./test_data/CASP.aln\",\"./test_data/cl1.tree\",\"./test_data/cl2.tree\",\"./test_data/cl3.tree\")\n",
    "asym.results()"
   ]
  },
  {
   "cell_type": "markdown",
   "id": "d6eab259-8c0d-4e0f-8f9e-51f08f878115",
   "metadata": {},
   "source": [
    "### Rate Variation among Sites (RVS)\n",
    "`diverge.Rvs` function need to creat only one cluster, it can calculate rate variation among sites. Once the calculations are completed, the user can call `rvs.summary()` to get the ML estimates result and the meaning of these results are as follow:\n",
    "- Alpha: Gamma Shape Parameter\n",
    "- D: Mean number of Substitutions\n",
    "- N: Number of Sites"
   ]
  },
  {
   "cell_type": "code",
   "execution_count": null,
   "id": "c562debb-5cba-49cb-a02b-f6acbbfa5315",
   "metadata": {
    "tags": []
   },
   "outputs": [],
   "source": [
    "from diverge import Rvs\n",
    "rvs = Rvs(\"./test_data/CASP.aln\",\"./test_data/cl1.tree\")\n",
    "rvs.summary()"
   ]
  },
  {
   "cell_type": "markdown",
   "id": "e5149f48-dd98-4d1c-91c9-5aada666dc75",
   "metadata": {},
   "source": [
    "The site-specific profile(s) can be get by `rvs.results`, which is the posterior probability of a site to be functional divergence-related. \n",
    "- XK: Number of Changes \n",
    "- RK: Posterior Mean of Evolutionary Rate"
   ]
  },
  {
   "cell_type": "code",
   "execution_count": null,
   "id": "15b0b3c8-d9fd-46d8-9990-05d3da135f16",
   "metadata": {
    "tags": []
   },
   "outputs": [],
   "source": [
    "rvs.results()"
   ]
  },
  {
   "cell_type": "markdown",
   "id": "a658000c",
   "metadata": {},
   "source": [
    "### Super Cluster\n",
    "When conducting large-scale gene family analysis, for multi-gene gene families, Super Cluster method can be used to cluster these genes. The method is based on the definition of type I functional divergence, which occurs when there is a change in the functional constraints between two groups of clusters. This change results in amino acid patterns that are highly conserved in one duplicate cluster, but highly variable in the other. This pattern indicates that genes within the same cluster may have similar functions.\n",
    "<br>\n",
    "If there are many genes in a gene family, manually calculating the type I functional divergence for each combination is tedious. The Super Cluster tool automatically lists all gene combinations and calculates the type I functional divergence for each combination, making it an efficient solution for analyzing multi-gene families. Through the calculation of the resulting type I functional divergence coefficient θ and a table of effective functional divergence sites with different posterior probability cutoff values, we are able to cluster a multi-gene family effectively. Additionally, Type I functional divergence residues, which are responsible for the emergence of multi-gene families, are important candidates, especially when they have high Qk values. Super Cluster results can help us find these sites and conduct further assays to study their function.\n",
    "<br>\n",
    "In the following example, we conducted a Super Cluster analysis on EGFR, ERBB2, and ERBB3. The analysis revealed that the combination of EGFR_ERBB2 and ERBB3 exhibited noteworthy functional divergence. As a result, we can classify EGFR and ERBB2 into one category and ERBB3 into another, which aligns with Stein RA's assertion that EGFR and ERBB2 share a progenitor, while ERBB3 belongs to a different progenitor branch."
   ]
  },
  {
   "cell_type": "code",
   "execution_count": null,
   "id": "fd6db965",
   "metadata": {},
   "outputs": [],
   "source": [
    "from diverge import super_cluster\n",
    "sp = super_cluster.SuperCluster(\"./test_data/CASP.aln\",\"./test_data/cl1.tree\",\"./test_data/cl2.tree\",\"./test_data/cl3.tree\",\"./test_data/cl4.tree\")"
   ]
  },
  {
   "cell_type": "markdown",
   "id": "c15e54fb",
   "metadata": {},
   "source": [
    "You can get results and statistical parameter of Super Cluster calculation by calling `sp.results` and `sp.summary`"
   ]
  },
  {
   "cell_type": "code",
   "execution_count": null,
   "id": "78f1844e",
   "metadata": {},
   "outputs": [],
   "source": [
    "sp.results\n",
    "sp.summary"
   ]
  }
 ],
 "metadata": {
  "kernelspec": {
   "display_name": "diverge",
   "language": "python",
   "name": "python3"
  },
  "language_info": {
   "codemirror_mode": {
    "name": "ipython",
    "version": 3
   },
   "file_extension": ".py",
   "mimetype": "text/x-python",
   "name": "python",
   "nbconvert_exporter": "python",
   "pygments_lexer": "ipython3",
   "version": "3.10.15"
  }
 },
 "nbformat": 4,
 "nbformat_minor": 5
}
